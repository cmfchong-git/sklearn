{
 "cells": [
  {
   "cell_type": "code",
   "execution_count": 22,
   "metadata": {
    "scrolled": true
   },
   "outputs": [],
   "source": [
    "import pandas as pd\n",
    "import numpy as np\n",
    "from sklearn.pipeline import Pipeline\n",
    "from sklearn.preprocessing import StandardScaler\n",
    "from sklearn.model_selection import train_test_split\n",
    "\n",
    "\n",
    "df = pd.read_csv('/home/ubuntu/Documents/TripAdvisor.csv',sep=',',header=0)\n",
    "\n",
    "cols = ['User country',  'Period of stay', 'Traveler type', 'Pool', 'Gym',\n",
    "       'Tennis court', 'Spa', 'Casino', 'Free internet', 'Hotel name',\n",
    "       'User continent',\n",
    "       'Review month', 'Review weekday', 'Hotel stars']\n",
    "\n",
    "labels = df['Score'].values\n",
    "df.drop(['Score'], axis=1, inplace=True)\n",
    "\n",
    "X_temp, X_test, y_train, y_test = train_test_split(df, labels, test_size=0.33, random_state=42)\n",
    " "
   ]
  },
  {
   "cell_type": "code",
   "execution_count": null,
   "metadata": {},
   "outputs": [],
   "source": [
    " "
   ]
  },
  {
   "cell_type": "code",
   "execution_count": null,
   "metadata": {},
   "outputs": [],
   "source": []
  },
  {
   "cell_type": "code",
   "execution_count": 23,
   "metadata": {},
   "outputs": [],
   "source": [
    "from sklearn.base import BaseEstimator, TransformerMixin\n",
    "\n",
    "class ToNumbers(BaseEstimator, TransformerMixin):\n",
    "    def __init__(self, cols):\n",
    "        self.cols = cols\n",
    "    def fit(self, X, y=None):\n",
    "        return self\n",
    "    def transform(self, X):\n",
    "        for c in cols:\n",
    "            encoded, categories = X[c].factorize()\n",
    "            X[c] = encoded\n",
    "        return X.values"
   ]
  },
  {
   "cell_type": "code",
   "execution_count": null,
   "metadata": {
    "scrolled": true
   },
   "outputs": [],
   "source": []
  },
  {
   "cell_type": "code",
   "execution_count": 24,
   "metadata": {},
   "outputs": [
    {
     "name": "stderr",
     "output_type": "stream",
     "text": [
      "/home/ubuntu/py3/lib/python3.5/site-packages/ipykernel_launcher.py:11: SettingWithCopyWarning: \n",
      "A value is trying to be set on a copy of a slice from a DataFrame.\n",
      "Try using .loc[row_indexer,col_indexer] = value instead\n",
      "\n",
      "See the caveats in the documentation: http://pandas.pydata.org/pandas-docs/stable/indexing.html#indexing-view-versus-copy\n",
      "  # This is added back by InteractiveShellApp.init_path()\n",
      "/home/ubuntu/py3/lib/python3.5/site-packages/sklearn/utils/validation.py:595: DataConversionWarning: Data with input dtype int64 was converted to float64 by StandardScaler.\n",
      "  warnings.warn(msg, DataConversionWarning)\n",
      "/home/ubuntu/py3/lib/python3.5/site-packages/sklearn/utils/validation.py:595: DataConversionWarning: Data with input dtype int64 was converted to float64 by StandardScaler.\n",
      "  warnings.warn(msg, DataConversionWarning)\n"
     ]
    }
   ],
   "source": [
    "pipeline = Pipeline([ \n",
    "    ('toNumbers', ToNumbers(cols)),\n",
    "    ('scaler', StandardScaler())\n",
    "])\n",
    "\n",
    "X_train = pipeline.fit_transform(X_temp)\n"
   ]
  },
  {
   "cell_type": "code",
   "execution_count": 25,
   "metadata": {},
   "outputs": [
    {
     "data": {
      "text/plain": [
       "DecisionTreeClassifier(class_weight=None, criterion='gini', max_depth=None,\n",
       "            max_features=None, max_leaf_nodes=None,\n",
       "            min_impurity_decrease=0.0, min_impurity_split=None,\n",
       "            min_samples_leaf=1, min_samples_split=2,\n",
       "            min_weight_fraction_leaf=0.0, presort=False, random_state=None,\n",
       "            splitter='best')"
      ]
     },
     "execution_count": 25,
     "metadata": {},
     "output_type": "execute_result"
    }
   ],
   "source": [
    "from sklearn.tree import DecisionTreeClassifier\n",
    "classifier = DecisionTreeClassifier()\n",
    "classifier.fit(X_train,y_train)"
   ]
  },
  {
   "cell_type": "code",
   "execution_count": null,
   "metadata": {},
   "outputs": [],
   "source": []
  },
  {
   "cell_type": "code",
   "execution_count": 26,
   "metadata": {},
   "outputs": [],
   "source": [
    "predictions = classifier.predict(X_train)"
   ]
  },
  {
   "cell_type": "code",
   "execution_count": null,
   "metadata": {},
   "outputs": [],
   "source": []
  },
  {
   "cell_type": "code",
   "execution_count": null,
   "metadata": {},
   "outputs": [],
   "source": []
  },
  {
   "cell_type": "code",
   "execution_count": 27,
   "metadata": {},
   "outputs": [
    {
     "name": "stdout",
     "output_type": "stream",
     "text": [
      "0.0\n"
     ]
    }
   ],
   "source": [
    "from sklearn.metrics import mean_squared_error\n",
    "\n",
    "mse = mean_squared_error(y_train,predictions)\n",
    "msen = np.sqrt(mse)\n",
    "print(msen)"
   ]
  },
  {
   "cell_type": "code",
   "execution_count": 28,
   "metadata": {},
   "outputs": [
    {
     "data": {
      "text/plain": [
       "array([0.09508109, 0.10709887, 0.05500134, 0.17332583, 0.03446109,\n",
       "       0.03496408, 0.        , 0.        , 0.01538334, 0.00576372,\n",
       "       0.00823388, 0.00332522, 0.0663271 , 0.03741995, 0.05568946,\n",
       "       0.04238491, 0.07038175, 0.10975819, 0.08540018])"
      ]
     },
     "execution_count": 28,
     "metadata": {},
     "output_type": "execute_result"
    }
   ],
   "source": [
    "classifier.feature_importances_"
   ]
  },
  {
   "cell_type": "code",
   "execution_count": null,
   "metadata": {},
   "outputs": [],
   "source": [
    " \n",
    " \n"
   ]
  },
  {
   "cell_type": "code",
   "execution_count": 29,
   "metadata": {},
   "outputs": [
    {
     "data": {
      "text/plain": [
       "'tripadvisor.pdf'"
      ]
     },
     "execution_count": 29,
     "metadata": {},
     "output_type": "execute_result"
    }
   ],
   "source": [
    "import graphviz\n",
    "from sklearn import tree\n",
    "dot_data = tree.export_graphviz(classifier, out_file=None) \n",
    "graph = graphviz.Source(dot_data) \n",
    "graph.render(\"tripadvisor\") "
   ]
  },
  {
   "cell_type": "code",
   "execution_count": 33,
   "metadata": {},
   "outputs": [
    {
     "name": "stderr",
     "output_type": "stream",
     "text": [
      "/home/ubuntu/py3/lib/python3.5/site-packages/sklearn/model_selection/_split.py:652: Warning: The least populated class in y has only 7 members, which is too few. The minimum number of members in any class cannot be less than n_splits=10.\n",
      "  % (min_groups, self.n_splits)), Warning)\n"
     ]
    }
   ],
   "source": [
    "from sklearn.model_selection import cross_val_score\n",
    "scores = cross_val_score(classifier,X_train,y_train,scoring=\"neg_mean_squared_error\",cv=10)"
   ]
  },
  {
   "cell_type": "code",
   "execution_count": 34,
   "metadata": {},
   "outputs": [
    {
     "name": "stderr",
     "output_type": "stream",
     "text": [
      "/home/ubuntu/py3/lib/python3.5/site-packages/sklearn/model_selection/_split.py:652: Warning: The least populated class in y has only 7 members, which is too few. The minimum number of members in any class cannot be less than n_splits=10.\n",
      "  % (min_groups, self.n_splits)), Warning)\n"
     ]
    }
   ],
   "source": [
    "from sklearn.model_selection import cross_val_predict\n",
    "scores = cross_val_predict(classifier,X_train,y_train,cv=10)"
   ]
  },
  {
   "cell_type": "code",
   "execution_count": 35,
   "metadata": {},
   "outputs": [
    {
     "name": "stdout",
     "output_type": "stream",
     "text": [
      "Scores: [4 3 2 5 4 5 5 5 5 5 5 4 4 5 5 5 4 4 5 4 5 5 3 4 4 4 5 5 5 4 2 5 5 4 5 4 3\n",
      " 3 3 5 1 5 5 4 4 1 5 4 4 5 4 2 3 5 3 5 5 5 3 5 5 5 5 5 5 3 3 4 5 3 5 5 2 5\n",
      " 5 5 5 5 5 3 2 3 4 3 5 2 5 1 5 5 5 4 4 5 2 5 2 5 4 5 5 4 5 4 4 4 5 5 5 5 5\n",
      " 5 4 5 5 5 5 5 5 4 5 5 5 5 5 4 5 2 1 2 4 5 5 3 3 3 5 5 5 5 5 3 5 2 5 3 5 5\n",
      " 3 4 5 5 3 3 3 2 4 4 5 4 5 3 4 3 4 5 5 4 3 5 5 4 5 5 4 4 4 3 3 5 4 1 4 5 4\n",
      " 3 4 4 5 5 3 3 5 5 4 4 3 5 5 5 3 4 5 4 4 5 3 5 5 4 5 5 5 4 3 4 4 5 4 4 3 5\n",
      " 5 2 5 5 3 4 4 5 3 3 5 3 5 5 4 3 5 4 4 2 4 4 4 5 2 3 4 4 4 3 4 4 4 5 5 4 3\n",
      " 4 4 5 4 3 4 2 3 3 3 2 5 5 5 1 5 2 4 5 4 5 5 5 3 5 5 3 4 4 2 5 5 5 5 5 5 5\n",
      " 1 4 4 2 3 4 4 3 5 4 5 5 5 3 5 4 5 5 4 5 5 5 5 5 4 5 3 2 4 5 5 5 5 4 4 3 4\n",
      " 5 5 5 2]\n",
      "Mean: 4.118694362017804\n",
      "Standard Deviation 1.0353574556104257\n"
     ]
    }
   ],
   "source": [
    "# from Aurelien Geron\n",
    "def display_scores(scores):\n",
    "    print(\"Scores:\", scores)\n",
    "    print(\"Mean:\", scores.mean())\n",
    "    print(\"Standard Deviation\", scores.std())\n",
    "    \n",
    "display_scores(scores)\n",
    "    "
   ]
  },
  {
   "cell_type": "code",
   "execution_count": 38,
   "metadata": {},
   "outputs": [
    {
     "data": {
      "text/plain": [
       "array([[  7,   0,   0,   0,   0],\n",
       "       [  0,  19,   0,   0,   0],\n",
       "       [  0,   0,  53,   0,   0],\n",
       "       [  0,   0,   0, 106,   0],\n",
       "       [  0,   0,   0,   0, 152]])"
      ]
     },
     "execution_count": 38,
     "metadata": {},
     "output_type": "execute_result"
    }
   ],
   "source": [
    "from sklearn.metrics import confusion_matrix\n",
    "confusion_matrix(y_train, predictions)    "
   ]
  },
  {
   "cell_type": "code",
   "execution_count": 41,
   "metadata": {},
   "outputs": [
    {
     "data": {
      "text/plain": [
       "array([4, 5, 4, 5, 4, 4, 4, 5, 5, 5, 5, 5, 5, 4, 3, 4, 5, 5, 5, 4, 3, 3,\n",
       "       2, 3, 3, 3, 4, 5, 5, 5, 4, 5, 5, 5, 5, 4, 5, 4, 5, 5, 5, 4, 5, 4,\n",
       "       5, 4, 1, 5, 5, 5, 3, 4, 3, 5, 4, 4, 2, 2, 4, 5, 5, 3, 2, 5, 4, 4,\n",
       "       5, 4, 4, 4, 4, 3, 5, 5, 4, 5, 5, 3, 5, 2, 5, 4, 4, 4, 4, 5, 5, 5,\n",
       "       3, 5, 5, 4, 5, 5, 4, 2, 5, 4, 4, 4, 5, 4, 5, 5, 5, 4, 5, 5, 4, 5,\n",
       "       5, 4, 3, 5, 3, 5, 5, 4, 5, 4, 5, 5, 3, 4, 5, 3, 5, 3, 5, 1, 3, 5,\n",
       "       5, 4, 5, 2, 1, 5, 5, 5, 4, 3, 5, 2, 5, 4, 4, 4, 5, 4, 5, 5, 4, 5,\n",
       "       5, 3, 5, 4, 5, 4, 4, 4, 5, 5, 5, 4, 2, 3, 5, 5, 4, 4, 5, 3, 5, 4,\n",
       "       3, 5, 5, 4, 3, 2, 5, 5, 5, 5, 4, 4, 5, 5, 4, 5, 4, 5, 5, 4, 3, 5,\n",
       "       5, 3, 3, 3, 5, 5, 3, 5, 3, 4, 4, 3, 5, 5, 5, 5, 2, 4, 1, 4, 4, 5,\n",
       "       3, 3, 4, 3, 1, 3, 4, 3, 4, 5, 5, 5, 4, 5, 2, 5, 5, 4, 5, 5, 4, 4,\n",
       "       5, 3, 4, 5, 5, 4, 5, 4, 5, 4, 5, 3, 4, 4, 3, 4, 4, 4, 5, 3, 5, 4,\n",
       "       5, 4, 4, 3, 3, 5, 5, 3, 3, 1, 4, 3, 5, 3, 5, 5, 2, 5, 5, 5, 2, 5,\n",
       "       4, 5, 5, 2, 2, 2, 4, 4, 3, 4, 5, 5, 4, 3, 2, 5, 5, 1, 4, 4, 5, 5,\n",
       "       4, 4, 5, 4, 5, 4, 4, 3, 5, 4, 5, 5, 3, 3, 4, 2, 3, 5, 5, 4, 4, 4,\n",
       "       5, 5, 4, 3, 5, 5, 5])"
      ]
     },
     "execution_count": 41,
     "metadata": {},
     "output_type": "execute_result"
    }
   ],
   "source": [
    "y_train"
   ]
  },
  {
   "cell_type": "code",
   "execution_count": 42,
   "metadata": {},
   "outputs": [
    {
     "data": {
      "text/plain": [
       "array([4, 5, 4, 5, 4, 4, 4, 5, 5, 5, 5, 5, 5, 4, 3, 4, 5, 5, 5, 4, 3, 3,\n",
       "       2, 3, 3, 3, 4, 5, 5, 5, 4, 5, 5, 5, 5, 4, 5, 4, 5, 5, 5, 4, 5, 4,\n",
       "       5, 4, 1, 5, 5, 5, 3, 4, 3, 5, 4, 4, 2, 2, 4, 5, 5, 3, 2, 5, 4, 4,\n",
       "       5, 4, 4, 4, 4, 3, 5, 5, 4, 5, 5, 3, 5, 2, 5, 4, 4, 4, 4, 5, 5, 5,\n",
       "       3, 5, 5, 4, 5, 5, 4, 2, 5, 4, 4, 4, 5, 4, 5, 5, 5, 4, 5, 5, 4, 5,\n",
       "       5, 4, 3, 5, 3, 5, 5, 4, 5, 4, 5, 5, 3, 4, 5, 3, 5, 3, 5, 1, 3, 5,\n",
       "       5, 4, 5, 2, 1, 5, 5, 5, 4, 3, 5, 2, 5, 4, 4, 4, 5, 4, 5, 5, 4, 5,\n",
       "       5, 3, 5, 4, 5, 4, 4, 4, 5, 5, 5, 4, 2, 3, 5, 5, 4, 4, 5, 3, 5, 4,\n",
       "       3, 5, 5, 4, 3, 2, 5, 5, 5, 5, 4, 4, 5, 5, 4, 5, 4, 5, 5, 4, 3, 5,\n",
       "       5, 3, 3, 3, 5, 5, 3, 5, 3, 4, 4, 3, 5, 5, 5, 5, 2, 4, 1, 4, 4, 5,\n",
       "       3, 3, 4, 3, 1, 3, 4, 3, 4, 5, 5, 5, 4, 5, 2, 5, 5, 4, 5, 5, 4, 4,\n",
       "       5, 3, 4, 5, 5, 4, 5, 4, 5, 4, 5, 3, 4, 4, 3, 4, 4, 4, 5, 3, 5, 4,\n",
       "       5, 4, 4, 3, 3, 5, 5, 3, 3, 1, 4, 3, 5, 3, 5, 5, 2, 5, 5, 5, 2, 5,\n",
       "       4, 5, 5, 2, 2, 2, 4, 4, 3, 4, 5, 5, 4, 3, 2, 5, 5, 1, 4, 4, 5, 5,\n",
       "       4, 4, 5, 4, 5, 4, 4, 3, 5, 4, 5, 5, 3, 3, 4, 2, 3, 5, 5, 4, 4, 4,\n",
       "       5, 5, 4, 3, 5, 5, 5])"
      ]
     },
     "execution_count": 42,
     "metadata": {},
     "output_type": "execute_result"
    }
   ],
   "source": [
    "predictions"
   ]
  }
 ],
 "metadata": {
  "kernelspec": {
   "display_name": "Python 3",
   "language": "python",
   "name": "python3"
  },
  "language_info": {
   "codemirror_mode": {
    "name": "ipython",
    "version": 3
   },
   "file_extension": ".py",
   "mimetype": "text/x-python",
   "name": "python",
   "nbconvert_exporter": "python",
   "pygments_lexer": "ipython3",
   "version": "3.5.2"
  }
 },
 "nbformat": 4,
 "nbformat_minor": 2
}
