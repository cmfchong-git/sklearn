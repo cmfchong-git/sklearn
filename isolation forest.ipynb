{
 "cells": [
  {
   "cell_type": "code",
   "execution_count": 70,
   "metadata": {},
   "outputs": [],
   "source": [
    "\n",
    "import numpy as np\n",
    "import matplotlib.pyplot as plt\n",
    "from sklearn.ensemble import IsolationForest\n",
    "\n",
    "rng = np.random.RandomState(20)\n",
    "\n",
    "train = rng.normal(4,1,(100,2))\n",
    "\n",
    " \n",
    "typical =  rng.normal(4,1,(100,2))\n",
    " \n",
    "outliers = np.array([\n",
    "                     [8,6],\n",
    "                     [1,4]\n",
    "])\n",
    "                       \n",
    " \n",
    "clf = IsolationForest(behaviour='new', max_samples=100,\n",
    "                      random_state=rng, contamination='auto')\n",
    "\n",
    "clf.fit(train)\n",
    "\n",
    "pred_train = clf.predict(train)\n",
    "pred_test = clf.predict(typical)\n",
    "pred_outliers = clf.predict(outliers)\n",
    "\n"
   ]
  },
  {
   "cell_type": "code",
   "execution_count": 71,
   "metadata": {},
   "outputs": [
    {
     "data": {
      "text/plain": [
       "<matplotlib.collections.PathCollection at 0x7f219f210da0>"
      ]
     },
     "execution_count": 71,
     "metadata": {},
     "output_type": "execute_result"
    },
    {
     "data": {
      "image/png": "[encoded data removed]",
      "text/plain": [
       "<Figure size 432x288 with 2 Axes>"
      ]
     },
     "metadata": {
      "needs_background": "light"
     },
     "output_type": "display_data"
    }
   ],
   "source": [
    "fig, axis = plt.subplots(2)\n",
    "\n",
    "axis[0].scatter(train[:,1], train[:,0] )\n",
    "\n",
    "axis[1].scatter(typical[:,1], typical[:,0]  , c='g'  )\n",
    "axis[1].scatter(outliers[:,1], outliers[:,0] , c='r'  )\n",
    "  "
   ]
  },
  {
   "cell_type": "code",
   "execution_count": 72,
   "metadata": {},
   "outputs": [
    {
     "data": {
      "text/plain": [
       "array([[2.49602218, 5.31396783],\n",
       "       [3.96987389, 4.63501308],\n",
       "       [4.50243523, 5.16196591],\n",
       "       [3.69425171, 5.71228277],\n",
       "       [5.169437  , 3.72418513],\n",
       "       [1.48821929, 3.58272819],\n",
       "       [4.54157245, 3.8548927 ],\n",
       "       [2.97841727, 4.47227797],\n",
       "       [3.2918765 , 5.41413948],\n",
       "       [3.50946684, 5.18117087],\n",
       "       [3.95307489, 2.53989382],\n",
       "       [3.4918085 , 3.50478424],\n",
       "       [4.7617861 , 2.35315625],\n",
       "       [4.85392636, 3.99204007],\n",
       "       [3.11052482, 4.35350763],\n",
       "       [3.46056924, 4.59113275],\n",
       "       [3.88170651, 3.63952703],\n",
       "       [2.93136788, 4.89071739],\n",
       "       [4.2352516 , 3.90744021],\n",
       "       [3.48893682, 4.59382268],\n",
       "       [3.22592517, 2.9290776 ],\n",
       "       [3.37306266, 2.92263686],\n",
       "       [5.27697984, 4.34646133],\n",
       "       [3.87768406, 4.21916957],\n",
       "       [4.14346708, 5.43484476],\n",
       "       [5.05536439, 5.11529293],\n",
       "       [5.8010064 , 3.80558117],\n",
       "       [3.15781296, 2.85182532],\n",
       "       [3.16845606, 3.3272534 ],\n",
       "       [4.67011646, 2.85112731],\n",
       "       [3.73209259, 3.04843739],\n",
       "       [2.42993137, 4.9859801 ],\n",
       "       [4.92397815, 2.39861914],\n",
       "       [3.70322465, 5.1893679 ],\n",
       "       [3.66669907, 4.92836199],\n",
       "       [3.27776159, 6.12171286],\n",
       "       [3.30837581, 4.39553831],\n",
       "       [3.62809213, 2.96058265],\n",
       "       [4.49184059, 5.00370859],\n",
       "       [3.73442625, 2.9594069 ],\n",
       "       [3.83569871, 4.39406252],\n",
       "       [3.76832017, 3.75237411],\n",
       "       [3.61336769, 4.0229018 ],\n",
       "       [3.28745589, 4.32352159],\n",
       "       [3.04131341, 3.66633531],\n",
       "       [2.83693389, 4.75977538],\n",
       "       [4.90975669, 5.44652159],\n",
       "       [3.62314153, 3.87152575],\n",
       "       [3.52246731, 3.87779752],\n",
       "       [4.20765501, 3.85073411],\n",
       "       [5.02086503, 5.97192189],\n",
       "       [5.1407991 , 4.129755  ],\n",
       "       [6.04005175, 4.41602743],\n",
       "       [4.4309007 , 5.47498636],\n",
       "       [5.45677779, 2.9529117 ],\n",
       "       [2.45733559, 5.00408048],\n",
       "       [3.1016925 , 4.73520218],\n",
       "       [5.52477321, 5.20678754],\n",
       "       [5.09563181, 4.57944493],\n",
       "       [4.37140095, 4.43958541],\n",
       "       [5.09084481, 4.03692613],\n",
       "       [5.11883675, 3.69153589],\n",
       "       [4.80429475, 5.40139159],\n",
       "       [3.65323536, 4.92340546],\n",
       "       [3.88474582, 3.65335292],\n",
       "       [3.2564669 , 3.07596142],\n",
       "       [3.34235292, 3.77303641],\n",
       "       [3.24646864, 4.08949335],\n",
       "       [3.34525622, 4.1708318 ],\n",
       "       [5.41449117, 2.39020266],\n",
       "       [5.25149585, 3.60853462],\n",
       "       [4.09676108, 5.0874839 ],\n",
       "       [5.14653179, 4.5270562 ],\n",
       "       [2.05279013, 3.89211078],\n",
       "       [4.5666396 , 3.22360617],\n",
       "       [4.26539153, 5.91491164],\n",
       "       [3.80663148, 4.35631269],\n",
       "       [2.95124886, 2.94054378],\n",
       "       [5.33083042, 2.98049567],\n",
       "       [4.35243223, 3.09818404],\n",
       "       [3.36729863, 3.64047332],\n",
       "       [4.63740817, 2.39057039],\n",
       "       [5.38766264, 5.53755272],\n",
       "       [3.01743089, 2.62636364],\n",
       "       [1.9315065 , 5.33354253],\n",
       "       [4.19305745, 3.15516627],\n",
       "       [5.30483822, 4.64922817],\n",
       "       [4.9424295 , 4.87982254],\n",
       "       [4.11923003, 3.05538846],\n",
       "       [3.02253447, 4.92173636],\n",
       "       [3.12450006, 2.6575436 ],\n",
       "       [2.65942266, 3.68874416],\n",
       "       [3.98522097, 5.12644611],\n",
       "       [2.58281055, 5.0004732 ],\n",
       "       [3.81519873, 6.19234113],\n",
       "       [4.15582362, 4.5556114 ],\n",
       "       [4.01536864, 3.99935572],\n",
       "       [3.9332404 , 3.06602816],\n",
       "       [4.47092111, 5.64748507],\n",
       "       [3.59314209, 2.76878672]])"
      ]
     },
     "execution_count": 72,
     "metadata": {},
     "output_type": "execute_result"
    }
   ],
   "source": [
    "typical"
   ]
  },
  {
   "cell_type": "code",
   "execution_count": 59,
   "metadata": {},
   "outputs": [
    {
     "data": {
      "text/plain": [
       "(2,)"
      ]
     },
     "execution_count": 59,
     "metadata": {},
     "output_type": "execute_result"
    }
   ],
   "source": [
    "outliers.shape"
   ]
  },
  {
   "cell_type": "code",
   "execution_count": 28,
   "metadata": {},
   "outputs": [],
   "source": [
    "train = rng.randint(4,high=10,size=(100,2))"
   ]
  }
 ],
 "metadata": {
  "kernelspec": {
   "display_name": "Python 3",
   "language": "python",
   "name": "python3"
  },
  "language_info": {
   "codemirror_mode": {
    "name": "ipython",
    "version": 3
   },
   "file_extension": ".py",
   "mimetype": "text/x-python",
   "name": "python",
   "nbconvert_exporter": "python",
   "pygments_lexer": "ipython3",
   "version": "3.5.2"
  }
 },
 "nbformat": 4,
 "nbformat_minor": 2
}
